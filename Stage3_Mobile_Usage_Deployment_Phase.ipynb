{
 "cells": [
  {
   "cell_type": "code",
   "execution_count": 11,
   "id": "5436cad6-15e1-4fc1-a4f2-76ccc0b660c9",
   "metadata": {},
   "outputs": [],
   "source": [
    "import pickle"
   ]
  },
  {
   "cell_type": "code",
   "execution_count": 12,
   "id": "b3fc322f-7d44-4d57-8dba-50af31909240",
   "metadata": {},
   "outputs": [],
   "source": [
    "loadmodel=pickle.load(open('Mobile_usage_SVM_besk_model.sav','rb'))"
   ]
  },
  {
   "cell_type": "code",
   "execution_count": 13,
   "id": "91825f0f-02ad-4655-a2c3-9b498c9b23b6",
   "metadata": {},
   "outputs": [
    {
     "data": {
      "text/plain": [
       "array(['App Usage Time (min/day)', 'Screen On Time (hours/day)',\n",
       "       'Battery Drain (mAh/day)', 'Number of Apps Installed',\n",
       "       'Data Usage (MB/day)'], dtype=object)"
      ]
     },
     "execution_count": 13,
     "metadata": {},
     "output_type": "execute_result"
    }
   ],
   "source": [
    "loadmodel.feature_names_in_"
   ]
  },
  {
   "cell_type": "code",
   "execution_count": 15,
   "id": "a2c75a2e-b0a9-4a98-8baa-5dd930a58b71",
   "metadata": {},
   "outputs": [
    {
     "name": "stdout",
     "output_type": "stream",
     "text": [
      "Enter App Usage Time for App Usage Time (min/day):\n",
      "Options:0-max (numeric value)\n"
     ]
    },
    {
     "name": "stdin",
     "output_type": "stream",
     "text": [
      "Enter the corresponding number:  222\n"
     ]
    },
    {
     "name": "stdout",
     "output_type": "stream",
     "text": [
      "Enter Screen On Time for Screen On Time (hours/day):\n",
      "Options:0-max (numeric value)\n"
     ]
    },
    {
     "name": "stdin",
     "output_type": "stream",
     "text": [
      "Enter the corresponding number:  12.3\n"
     ]
    },
    {
     "name": "stdout",
     "output_type": "stream",
     "text": [
      "Enter Battery Drain for Battery Drain (mAh/day):\n",
      "Options:0-max (numeric value)\n"
     ]
    },
    {
     "name": "stdin",
     "output_type": "stream",
     "text": [
      "Enter the corresponding number:  34343\n"
     ]
    },
    {
     "name": "stdout",
     "output_type": "stream",
     "text": [
      "Enter 'Number of Apps Installed for Number of Apps Installed:\n",
      "Options:0-max (numeric value)\n"
     ]
    },
    {
     "name": "stdin",
     "output_type": "stream",
     "text": [
      "Enter the corresponding number:  33\n"
     ]
    },
    {
     "name": "stdout",
     "output_type": "stream",
     "text": [
      "Enter Data Usage for Data Usage (MB/day):\n",
      "Options:0-max (numeric value)\n"
     ]
    },
    {
     "name": "stdin",
     "output_type": "stream",
     "text": [
      "Enter the corresponding number:  22\n"
     ]
    },
    {
     "name": "stdout",
     "output_type": "stream",
     "text": [
      "[222, 12.3, 34343, 33, 22]\n"
     ]
    }
   ],
   "source": [
    "get_inputvalue = []\n",
    "\n",
    "for i in loadmodel.feature_names_in_:\n",
    "    \n",
    "    if i=='App Usage Time (min/day)':\n",
    "        print(f\"Enter App Usage Time for {i}:\")\n",
    "        print(\"Options:0-max (numeric value)\")\n",
    "        model = int(input(\"Enter the corresponding number: \"))\n",
    "        get_inputvalue.append(model)\n",
    "    if i=='Screen On Time (hours/day)':\n",
    "        print(f\"Enter Screen On Time for {i}:\")\n",
    "        print(\"Options:0-max (numeric value)\")\n",
    "        model = float(input(\"Enter the corresponding number: \"))\n",
    "        get_inputvalue.append(model)\n",
    "    if i=='Battery Drain (mAh/day)':\n",
    "        print(f\"Enter Battery Drain for {i}:\")\n",
    "        print(\"Options:0-max (numeric value)\")\n",
    "        model = int(input(\"Enter the corresponding number: \"))\n",
    "        get_inputvalue.append(model)\n",
    "    if i=='Number of Apps Installed':\n",
    "        print(f\"Enter 'Number of Apps Installed for {i}:\")\n",
    "        print(\"Options:0-max (numeric value)\")\n",
    "        model = int(input(\"Enter the corresponding number: \"))\n",
    "        get_inputvalue.append(model)\n",
    "    if i=='Data Usage (MB/day)':\n",
    "        print(f\"Enter Data Usage for {i}:\")\n",
    "        print(\"Options:0-max (numeric value)\")\n",
    "        model = int(input(\"Enter the corresponding number: \"))\n",
    "        get_inputvalue.append(model)\n",
    "    \n",
    "print(get_inputvalue)"
   ]
  },
  {
   "cell_type": "code",
   "execution_count": 16,
   "id": "f39e8ea2-1a83-4232-ab43-5b8d6150756c",
   "metadata": {},
   "outputs": [
    {
     "name": "stderr",
     "output_type": "stream",
     "text": [
      "C:\\Users\\mojayara\\myenv\\Lib\\site-packages\\sklearn\\utils\\validation.py:2749: UserWarning: X does not have valid feature names, but SVC was fitted with feature names\n",
      "  warnings.warn(\n"
     ]
    }
   ],
   "source": [
    "newpredict=loadmodle.predict([get_inputvalue])"
   ]
  },
  {
   "cell_type": "code",
   "execution_count": 17,
   "id": "ac1f4469-ff97-4000-a4ca-37abfa517339",
   "metadata": {},
   "outputs": [],
   "source": [
    "label_mapping = {\n",
    "    1: \"1-Light Usage\",\n",
    "    2: \"2-Moderate Usage\",\n",
    "    3: \"3-Regular Usage\",\n",
    "    4: \"4-High Usage\",\n",
    "    5: \"5-Extreme Usage\"\n",
    "}"
   ]
  },
  {
   "cell_type": "code",
   "execution_count": 18,
   "id": "571c9c40-4a1d-49d0-8fdf-33f370c2dcfd",
   "metadata": {},
   "outputs": [
    {
     "data": {
      "text/plain": [
       "'5-Extreme Usage'"
      ]
     },
     "execution_count": 18,
     "metadata": {},
     "output_type": "execute_result"
    }
   ],
   "source": [
    "label_mapping[newpredict[0]]"
   ]
  },
  {
   "cell_type": "code",
   "execution_count": null,
   "id": "4db20642-c36b-4709-bd66-31a4c7ccaf92",
   "metadata": {},
   "outputs": [],
   "source": []
  },
  {
   "cell_type": "code",
   "execution_count": null,
   "id": "d6323b3c-2e62-4526-bcc0-03b12394980a",
   "metadata": {},
   "outputs": [],
   "source": []
  }
 ],
 "metadata": {
  "kernelspec": {
   "display_name": "Python 3 (ipykernel)",
   "language": "python",
   "name": "python3"
  },
  "language_info": {
   "codemirror_mode": {
    "name": "ipython",
    "version": 3
   },
   "file_extension": ".py",
   "mimetype": "text/x-python",
   "name": "python",
   "nbconvert_exporter": "python",
   "pygments_lexer": "ipython3",
   "version": "3.13.3"
  }
 },
 "nbformat": 4,
 "nbformat_minor": 5
}
